{
  "nbformat": 4,
  "nbformat_minor": 0,
  "metadata": {
    "colab": {
      "name": "Assignment - Introduction to Pandas.ipynb",
      "provenance": [],
      "collapsed_sections": [],
      "include_colab_link": true
    },
    "kernelspec": {
      "name": "python3",
      "display_name": "Python 3"
    }
  },
  "cells": [
    {
      "cell_type": "markdown",
      "metadata": {
        "id": "view-in-github",
        "colab_type": "text"
      },
      "source": [
        "<a href=\"https://colab.research.google.com/github/ZainDataS/Module1_Python_Problems/blob/main/Assignment_Introduction_to_Pandas.ipynb\" target=\"_parent\"><img src=\"https://colab.research.google.com/assets/colab-badge.svg\" alt=\"Open In Colab\"/></a>"
      ]
    },
    {
      "cell_type": "markdown",
      "metadata": {
        "id": "MKXTc2Tas23T"
      },
      "source": [
        "# <u> Use only those concepts which have been taught till now </u>"
      ]
    },
    {
      "cell_type": "code",
      "metadata": {
        "id": "0V3Xtuh9siNn"
      },
      "source": [
        "import numpy as np\n",
        "import pandas as pd"
      ],
      "execution_count": null,
      "outputs": []
    },
    {
      "cell_type": "markdown",
      "metadata": {
        "id": "Ase3qjp9cJUC"
      },
      "source": [
        "# <u>**Problem 1**</u>\n",
        "\n",
        "### You are given a list of urls. You need to extract the domain name from the urls in another list. Also you need to extract the ending string which the url ends with. \n",
        "\n",
        "### For example, https://www.example.com/market.php -- In this example, domain name is <code>www.example.com</code> and the ending string is <code>php</code>\n",
        "\n"
      ]
    },
    {
      "cell_type": "code",
      "metadata": {
        "id": "xj0SaK7smcPu"
      },
      "source": [
        "# List of urls\n",
        "url_list = ['https://blog.hubspot.com/marketing/parts-url',\n",
        "            'https://www.almabetter.com/enrollments',\n",
        "            'https://pandas.pydata.org/pandas-docs/stable/reference/api/pandas.DataFrame.rename.html',\n",
        "            'https://www.programiz.com/python-programming/list']"
      ],
      "execution_count": null,
      "outputs": []
    },
    {
      "cell_type": "code",
      "metadata": {
        "id": "N1hhYCZw3V1c",
        "colab": {
          "base_uri": "https://localhost:8080/"
        },
        "outputId": "1245b3cb-fb09-45cd-fa41-4ca9cc17abbb"
      },
      "source": [
        "# Extract the domains and the ending string. Hint : use the split method for a string\n",
        "urls_list = []                    \n",
        "for urls in url_list:    \n",
        "    urls_list.append(urls.replace(\"https://\",\"\"))\n",
        "\n",
        "domain_string = []\n",
        "for domain in urls_list:\n",
        "    domain_string.append(domain[0:domain.find('/')])\n",
        "print(domain_string)\n",
        "\n",
        "\n",
        "\n",
        "ending_string_list = []\n",
        "for ending_string in urls_list:\n",
        "  ending_string_list.append(ending_string.split('/')[-1].split('.')[-1])\n",
        "print(ending_string_list)\n",
        "\n",
        "# domain_list = [x.split('/')[2] for x in url_list]\n",
        "# ending_string_list = [x.split('/')[-1].split('.')[-1] for x in url_list]\n"
      ],
      "execution_count": null,
      "outputs": [
        {
          "output_type": "stream",
          "name": "stdout",
          "text": [
            "['blog.hubspot.com', 'www.almabetter.com', 'pandas.pydata.org', 'www.programiz.com']\n",
            "['parts-url', 'enrollments', 'html', 'list']\n"
          ]
        }
      ]
    },
    {
      "cell_type": "markdown",
      "metadata": {
        "id": "EVgY54DrvLEF"
      },
      "source": [
        "## Next create a pandas dataframe with the above three lists."
      ]
    },
    {
      "cell_type": "code",
      "metadata": {
        "id": "2osXcjvpu6Uz",
        "colab": {
          "base_uri": "https://localhost:8080/",
          "height": 172
        },
        "outputId": "329583f0-529b-406d-b1f6-773fe60adc1e"
      },
      "source": [
        "# Your code here. Hint : zip the three lists\n",
        "new_list = list(zip(url_list,domain_string,ending_string_list))\n",
        "pd.DataFrame(new_list, columns=['URL','Domain','Ending'],index=['a','b','c','d'])\n",
        "\n"
      ],
      "execution_count": null,
      "outputs": [
        {
          "output_type": "execute_result",
          "data": {
            "text/html": [
              "<div>\n",
              "<style scoped>\n",
              "    .dataframe tbody tr th:only-of-type {\n",
              "        vertical-align: middle;\n",
              "    }\n",
              "\n",
              "    .dataframe tbody tr th {\n",
              "        vertical-align: top;\n",
              "    }\n",
              "\n",
              "    .dataframe thead th {\n",
              "        text-align: right;\n",
              "    }\n",
              "</style>\n",
              "<table border=\"1\" class=\"dataframe\">\n",
              "  <thead>\n",
              "    <tr style=\"text-align: right;\">\n",
              "      <th></th>\n",
              "      <th>URL</th>\n",
              "      <th>Domain</th>\n",
              "      <th>Ending</th>\n",
              "    </tr>\n",
              "  </thead>\n",
              "  <tbody>\n",
              "    <tr>\n",
              "      <th>a</th>\n",
              "      <td>https://blog.hubspot.com/marketing/parts-url</td>\n",
              "      <td>blog.hubspot.com</td>\n",
              "      <td>parts-url</td>\n",
              "    </tr>\n",
              "    <tr>\n",
              "      <th>b</th>\n",
              "      <td>https://www.almabetter.com/enrollments</td>\n",
              "      <td>www.almabetter.com</td>\n",
              "      <td>enrollments</td>\n",
              "    </tr>\n",
              "    <tr>\n",
              "      <th>c</th>\n",
              "      <td>https://pandas.pydata.org/pandas-docs/stable/r...</td>\n",
              "      <td>pandas.pydata.org</td>\n",
              "      <td>html</td>\n",
              "    </tr>\n",
              "    <tr>\n",
              "      <th>d</th>\n",
              "      <td>https://www.programiz.com/python-programming/list</td>\n",
              "      <td>www.programiz.com</td>\n",
              "      <td>list</td>\n",
              "    </tr>\n",
              "  </tbody>\n",
              "</table>\n",
              "</div>"
            ],
            "text/plain": [
              "                                                 URL  ...       Ending\n",
              "a       https://blog.hubspot.com/marketing/parts-url  ...    parts-url\n",
              "b             https://www.almabetter.com/enrollments  ...  enrollments\n",
              "c  https://pandas.pydata.org/pandas-docs/stable/r...  ...         html\n",
              "d  https://www.programiz.com/python-programming/list  ...         list\n",
              "\n",
              "[4 rows x 3 columns]"
            ]
          },
          "metadata": {},
          "execution_count": 141
        }
      ]
    },
    {
      "cell_type": "code",
      "metadata": {
        "id": "oR7YL07r49xV"
      },
      "source": [
        "pd.series([2,3,4,5,6], index = ['a','b'], name ='number')"
      ],
      "execution_count": null,
      "outputs": []
    },
    {
      "cell_type": "code",
      "metadata": {
        "id": "ibFtbKdTY7SB"
      },
      "source": [
        ""
      ],
      "execution_count": null,
      "outputs": []
    }
  ]
}