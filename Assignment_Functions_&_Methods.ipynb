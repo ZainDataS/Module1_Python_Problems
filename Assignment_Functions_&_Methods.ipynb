{
  "nbformat": 4,
  "nbformat_minor": 0,
  "metadata": {
    "colab": {
      "name": "Assignment - Functions & Methods.ipynb",
      "provenance": [],
      "collapsed_sections": [],
      "include_colab_link": true
    },
    "kernelspec": {
      "display_name": "Python 3",
      "language": "python",
      "name": "python3"
    },
    "language_info": {
      "codemirror_mode": {
        "name": "ipython",
        "version": 3
      },
      "file_extension": ".py",
      "mimetype": "text/x-python",
      "name": "python",
      "nbconvert_exporter": "python",
      "pygments_lexer": "ipython3",
      "version": "3.7.3"
    }
  },
  "cells": [
    {
      "cell_type": "markdown",
      "metadata": {
        "id": "view-in-github",
        "colab_type": "text"
      },
      "source": [
        "<a href=\"https://colab.research.google.com/github/ZainDataS/Module1_Python_Problems/blob/main/Assignment_Functions_%26_Methods.ipynb\" target=\"_parent\"><img src=\"https://colab.research.google.com/assets/colab-badge.svg\" alt=\"Open In Colab\"/></a>"
      ]
    },
    {
      "cell_type": "markdown",
      "metadata": {
        "id": "Aq5jjKHb-zdZ"
      },
      "source": [
        "# <u> Problem 1</u>\n",
        "\n",
        "### Write a function which takes the excel column name as an input and returns the corresponding column number. A few examples are :\n",
        "\n",
        "* column name = <code>'J'</code> , column number = <code>10</code>\n",
        "* column name = <code>'AP'</code> , column number = <code>42</code>\n",
        "* column name = <code>'AAA'</code>, column number = <code>703</code>\n"
      ]
    },
    {
      "cell_type": "code",
      "metadata": {
        "id": "Un0QXOa3-zdb",
        "colab": {
          "base_uri": "https://localhost:8080/"
        },
        "outputId": "3c20a286-805f-4572-d6f6-c3cd691d1808"
      },
      "source": [
        "import string\n",
        "letters_ = list(string.ascii_uppercase)\n",
        "number_ = list(range(1,27))\n",
        "both_list_dict = dict(zip(letters_,number_))\n",
        "both_list_dict"
      ],
      "execution_count": 43,
      "outputs": [
        {
          "output_type": "execute_result",
          "data": {
            "text/plain": [
              "{'A': 1,\n",
              " 'B': 2,\n",
              " 'C': 3,\n",
              " 'D': 4,\n",
              " 'E': 5,\n",
              " 'F': 6,\n",
              " 'G': 7,\n",
              " 'H': 8,\n",
              " 'I': 9,\n",
              " 'J': 10,\n",
              " 'K': 11,\n",
              " 'L': 12,\n",
              " 'M': 13,\n",
              " 'N': 14,\n",
              " 'O': 15,\n",
              " 'P': 16,\n",
              " 'Q': 17,\n",
              " 'R': 18,\n",
              " 'S': 19,\n",
              " 'T': 20,\n",
              " 'U': 21,\n",
              " 'V': 22,\n",
              " 'W': 23,\n",
              " 'X': 24,\n",
              " 'Y': 25,\n",
              " 'Z': 26}"
            ]
          },
          "metadata": {},
          "execution_count": 43
        }
      ]
    },
    {
      "cell_type": "code",
      "metadata": {
        "id": "F9Xh0wGCfH2R"
      },
      "source": [
        "def get_excel_column_number(column_name):\n",
        "    n= len(column_name)\n",
        "    if len(column_name)==1:\n",
        "      column_num = both_list_dict.get(column_name[0])\n",
        "    elif len(column_name)==2:\n",
        "       column_num= 26**(n-1)*both_list_dict.get(column_name[0]) + 26**(n-2)*both_list_dict.get(column_name[1])\n",
        "    elif len(column_name)>=2:\n",
        "      column_num= 26**(n-1)*both_list_dict.get(column_name[0]) + 26**(n-2)*both_list_dict.get(column_name[1]) + both_list_dict.get(column_name[2])\n",
        "    return column_num"
      ],
      "execution_count": 44,
      "outputs": []
    },
    {
      "cell_type": "code",
      "metadata": {
        "id": "VFSrFUwP-zdd",
        "colab": {
          "base_uri": "https://localhost:8080/"
        },
        "outputId": "5f0a8adc-2f1b-43fd-b176-7e89eab99eda"
      },
      "source": [
        "# Check\n",
        "get_excel_column_number('BD')"
      ],
      "execution_count": 45,
      "outputs": [
        {
          "output_type": "execute_result",
          "data": {
            "text/plain": [
              "56"
            ]
          },
          "metadata": {},
          "execution_count": 45
        }
      ]
    },
    {
      "cell_type": "code",
      "metadata": {
        "id": "AZaQlyAc-zde",
        "colab": {
          "base_uri": "https://localhost:8080/"
        },
        "outputId": "35b862f6-a90c-4f3b-9790-85bad1a945d2"
      },
      "source": [
        "# Check\n",
        "get_excel_column_number('ALQ')"
      ],
      "execution_count": 46,
      "outputs": [
        {
          "output_type": "execute_result",
          "data": {
            "text/plain": [
              "1005"
            ]
          },
          "metadata": {},
          "execution_count": 46
        }
      ]
    },
    {
      "cell_type": "markdown",
      "metadata": {
        "id": "zh_MA_BN-zd5"
      },
      "source": [
        "# <u> Problem 2</u>\n",
        "\n",
        "### We evaluate a standard machine learning classification model using various evaluation metrics. A classification model is a model which classifies a given observation or an event to a fixed set of categories. Suppose I train a machine learning model to classify images of cats and dogs. For each image, the machine classifies the image with either a <code>'Cat'</code> or a <code>'Dog'</code>. So in essence for each input image, there is a corresponding output by the model. This output can either be a <code>'Cat'</code> or a <code>'Dog'</code>.\n",
        "\n",
        "### To evaluate such a machine learning model which is trained to classify a given observation with at most two labels, a lot of candidate evaluation metrics are available. Accuracy is one of such evaluation metrics. \n",
        "\n",
        "### <u> Accuracy defintion </u> : Suppose you are given 20 input images of cats and dogs. You already know from these images that there are 11 cats and 9 dogs. You train a machine learning model to classify these images into cats and dogs. The machine predicts 9 cats correctly and 8 dogs correctly. The accuracy of the model is then defined as (correctly predicted cats and dogs)/(total cats and dogs). In this case it is (9+8)/(11+9) = 17/20 = 0.85 or 85%. It is a good practice to report the accuracy in percentages\n",
        "\n"
      ]
    },
    {
      "cell_type": "markdown",
      "metadata": {
        "id": "cp2SUazju_D7"
      },
      "source": [
        "### You are given two lists each of length 20 : one list contains the actual labels for the images of cats and dogs. The other list contains the predicted labels (by the machine) for the images of cats and dogs.\n",
        "\n",
        "### How to read the two lists ? For example for the first image, actual label is Cat and the predicted label is Cat. For the last image, actual label is Dog and the predicted label is Cat. The same index in the two lists corresponds to the same image"
      ]
    },
    {
      "cell_type": "code",
      "metadata": {
        "id": "BPsQbNPjvjAT"
      },
      "source": [
        "actual_labels = ['Cat','Dog','Cat','Cat','Dog','Cat','Dog','Cat','Cat','Cat','Dog','Dog','Cat','Cat','Cat','Dog','Dog','Dog','Cat','Dog']"
      ],
      "execution_count": 47,
      "outputs": []
    },
    {
      "cell_type": "code",
      "metadata": {
        "id": "MDefeYf1v4pT"
      },
      "source": [
        "predicted_labels = ['Cat','Dog','Cat','Cat','Dog','Cat','Dog','Cat','Dog','Dog','Dog','Dog','Cat','Cat','Cat','Dog','Dog','Dog','Cat','Cat']"
      ],
      "execution_count": 48,
      "outputs": []
    },
    {
      "cell_type": "markdown",
      "metadata": {
        "id": "hzLROuvWwZAL"
      },
      "source": [
        "### Write a function to calculate the accuracy. This functions takes two lists as inputs and returns the accuracy score in percentage"
      ]
    },
    {
      "cell_type": "code",
      "metadata": {
        "id": "HvDJXfL3-zd6"
      },
      "source": [
        "def calculate_accuracy(actual, predicted):\n",
        "  '''\n",
        "  This functions calculates the accuracy based on two input lists\n",
        "  '''\n",
        "  # Write your code here\n",
        "  new_list=list(zip(actual,predicted))\n",
        "  x=0\n",
        "  y= len(actual)\n",
        "  for original_words, predicted_words in new_list:\n",
        "    if original_words==predicted_words:\n",
        "      x +=1\n",
        "      accuracy= x/y \n",
        "      accuracy_per = \"{:.0%}\".format(accuracy)   #to get in terms of percentage\n",
        "  return accuracy_per        \n",
        "\n"
      ],
      "execution_count": 49,
      "outputs": []
    },
    {
      "cell_type": "code",
      "metadata": {
        "id": "At0m0hcc-zd_",
        "colab": {
          "base_uri": "https://localhost:8080/"
        },
        "outputId": "59eca821-a193-42f7-e21d-1ffa53356d79"
      },
      "source": [
        "# Print the accuracy score for the given lists\n",
        "print(calculate_accuracy(actual_labels,predicted_labels))"
      ],
      "execution_count": 50,
      "outputs": [
        {
          "output_type": "stream",
          "name": "stdout",
          "text": [
            "85%\n"
          ]
        }
      ]
    },
    {
      "cell_type": "markdown",
      "metadata": {
        "id": "YyYwXAlax36r"
      },
      "source": [
        "* ### <b><u>Precision</u></b> for cats is defined as the number of correctly predicted cats divided by the number of predicted cats. Report precision in percentages.\n",
        "\n",
        "* ### <b><u>Recall</u></b> for cats is defined as the number of correctly predicted cats divided by the actual number of cats. Report recall in percentages.\n",
        "\n",
        "### We can define the same two metrics for dogs as well. \n"
      ]
    },
    {
      "cell_type": "markdown",
      "metadata": {
        "id": "VwYIek-9yd4n"
      },
      "source": [
        "# <u> Problem 3 </u> \n",
        "\n",
        "### Write a Python function which returns the precision and recall for a given input label. Use the same two lists"
      ]
    },
    {
      "cell_type": "code",
      "metadata": {
        "id": "SojiZTMSyY4T"
      },
      "source": [
        "def precision_recall(label):\n",
        "  '''\n",
        "  This functions returns a tuple of precision and recall for a given input label\n",
        "  '''\n",
        "  # Your code here\n",
        "  new_list=list(zip(actual_labels,predicted_labels))\n",
        "  x=0\n",
        "  y=0\n",
        "  for act_anim,pred_anim in new_list:\n",
        "    if act_anim==pred_anim and pred_anim==label:\n",
        "      x+=1\n",
        "      y+=1\n",
        "    precision = x/(predicted_labels.count(label))\n",
        "    precision_per = \"{:.0%}\".format(precision)\n",
        "    recall_percent= y/(actual_labels.count(label))\n",
        "    recall_per = \"{:.0%}\".format(recall_percent)\n",
        "  return precision_per, recall_per\n",
        " "
      ],
      "execution_count": 51,
      "outputs": []
    },
    {
      "cell_type": "code",
      "source": [
        "print(precision_recall('Cat'))"
      ],
      "metadata": {
        "colab": {
          "base_uri": "https://localhost:8080/"
        },
        "id": "18l5kZz2HA89",
        "outputId": "32c404d8-8411-4a92-e8a8-1021ad4a1fb9"
      },
      "execution_count": 52,
      "outputs": [
        {
          "output_type": "stream",
          "name": "stdout",
          "text": [
            "('90%', '82%')\n"
          ]
        }
      ]
    },
    {
      "cell_type": "markdown",
      "metadata": {
        "id": "I-5eBWXa1Mla"
      },
      "source": [
        "# <u> Problem 4 </u>\n",
        "\n",
        "### Write a Python function which takes a sentence and a length value as inputs and returns the counts of those words from the sentence whose length is equal to the provided input length value.\n",
        "\n",
        "### Suppose if the input for the length value is 5, it will return the count of all those words which are of length 5"
      ]
    },
    {
      "cell_type": "code",
      "metadata": {
        "id": "9ueu9nJx1uUZ"
      },
      "source": [
        "marvel_quote = \"The world has changed and none of us can go back. All we can do is our best, and sometimes the best that we can do is to start over.\""
      ],
      "execution_count": 53,
      "outputs": []
    },
    {
      "cell_type": "code",
      "metadata": {
        "id": "9OPAUOCT2VQW"
      },
      "source": [
        "# Your function below. Make sure to remove the special characters such as full stop and comma.\n",
        "def fixed_length_word_counts(sentence, length):\n",
        "  '''\n",
        "  This function returns the count of the words with the given input length\n",
        "  '''\n",
        "  # Your code below\n",
        "  sentence = sentence.split(' ')\n",
        "  x=0\n",
        "  for words in sentence:\n",
        "    if len(words)==length:\n",
        "      x+=1\n",
        "  return x\n",
        "\n"
      ],
      "execution_count": 54,
      "outputs": []
    },
    {
      "cell_type": "code",
      "metadata": {
        "id": "Px7OQG0j2iab",
        "colab": {
          "base_uri": "https://localhost:8080/"
        },
        "outputId": "9dfe1a18-4a2b-457f-8fbc-b6c1f64ea989"
      },
      "source": [
        "# Check on the sample sentence\n",
        "fixed_length_word_counts(marvel_quote, 3)"
      ],
      "execution_count": 55,
      "outputs": [
        {
          "output_type": "execute_result",
          "data": {
            "text/plain": [
              "10"
            ]
          },
          "metadata": {},
          "execution_count": 55
        }
      ]
    }
  ]
}