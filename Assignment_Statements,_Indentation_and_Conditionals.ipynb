{
  "nbformat": 4,
  "nbformat_minor": 0,
  "metadata": {
    "kernelspec": {
      "display_name": "Python 3",
      "language": "python",
      "name": "python3"
    },
    "language_info": {
      "codemirror_mode": {
        "name": "ipython",
        "version": 3
      },
      "file_extension": ".py",
      "mimetype": "text/x-python",
      "name": "python",
      "nbconvert_exporter": "python",
      "pygments_lexer": "ipython3",
      "version": "3.7.4"
    },
    "colab": {
      "name": "Assignment - Statements, Indentation and Conditionals.ipynb",
      "provenance": [],
      "collapsed_sections": [],
      "include_colab_link": true
    }
  },
  "cells": [
    {
      "cell_type": "markdown",
      "metadata": {
        "id": "view-in-github",
        "colab_type": "text"
      },
      "source": [
        "<a href=\"https://colab.research.google.com/github/ZainDataS/Module1_Python_Problems/blob/main/Assignment_Statements%2C_Indentation_and_Conditionals.ipynb\" target=\"_parent\"><img src=\"https://colab.research.google.com/assets/colab-badge.svg\" alt=\"Open In Colab\"/></a>"
      ]
    },
    {
      "cell_type": "markdown",
      "metadata": {
        "id": "8WbUJEVzs8Bx"
      },
      "source": [
        "## <u>While doing this assignment only use those concepts which have been taught till now</u>"
      ]
    },
    {
      "cell_type": "markdown",
      "metadata": {
        "id": "KjPWYK0Rs8By"
      },
      "source": [
        "## <u>Problem 1</u>\n",
        "\n",
        "### As an analyst, you had to present the quarterly performance results of your client. The data which you were provided was on daily basis. To complete this task, you needed to extract the quarter from a given date. For example:\n",
        "\n",
        "* if the date lies between 1st Jan, 2020 - 31st March, 2020, you need to extract the corresponding quarter as '2020-Q1'\n",
        "\n",
        "* if the date lies between 1st April, 2020 - 30th June, 2020, the extracted quarter will be '2020-Q2'\n",
        "\n",
        "* if the date lies between 1st July, 2020 - 30th September, 2020, the extracted quarter will be '2020-Q3' \n",
        "\n",
        "* if the date lies between 1st October, 2020 - 31st Decemeber, 2020 then the extracted quarter will be '2020-Q4'\n"
      ]
    },
    {
      "cell_type": "code",
      "metadata": {
        "id": "RxVZTrenzfHC",
        "colab": {
          "base_uri": "https://localhost:8080/"
        },
        "outputId": "ed189e74-750d-4c52-aecc-82d551a34028"
      },
      "source": [
        "# Take a proper date input from the user in the format YYYY-MM-DD. Consider this date as a string\n",
        "user_date = input('Enter a date in YYYY-MM-DD format: ')"
      ],
      "execution_count": null,
      "outputs": [
        {
          "output_type": "stream",
          "text": [
            "Enter a date in YYYY-MM-DD format: 2019-06-24\n"
          ],
          "name": "stdout"
        }
      ]
    },
    {
      "cell_type": "code",
      "metadata": {
        "id": "N1Yhpkiws8B3",
        "colab": {
          "base_uri": "https://localhost:8080/"
        },
        "outputId": "63e4e0fe-a69c-416e-b69e-e1043b05c33b"
      },
      "source": [
        "# Write your code using if else statements to extract the quarter\n",
        "\n",
        "date_year = user_date[:4]\n",
        "print(date_year)\n",
        "date_month = user_date[5:7]\n",
        "print(date_month)\n",
        "\n",
        "# Store the quarter value in a string variable named quarter\n",
        "if (date_month >= '01') & (date_month <='03'):\n",
        "    given_quarter = date_year + '-Q1'\n",
        "elif (date_month >= '04') & (date_month <='06'):\n",
        "    given_quarter = date_year + '-Q2'\n",
        "elif (date_month >= '07') & (date_month <='09'):\n",
        "    given_quarter = date_year + '-Q3'\n",
        "else:\n",
        "    given_quarter = date_year + '-Q4'\n"
      ],
      "execution_count": null,
      "outputs": [
        {
          "output_type": "stream",
          "text": [
            "2019\n",
            "06\n"
          ],
          "name": "stdout"
        }
      ]
    },
    {
      "cell_type": "code",
      "metadata": {
        "id": "KpMdlB5Fs8B8",
        "colab": {
          "base_uri": "https://localhost:8080/"
        },
        "outputId": "4ffbac3d-446c-47cc-a3e9-9aa4885db271"
      },
      "source": [
        "# Print the extracted quarter\n",
        "print(given_quarter)"
      ],
      "execution_count": null,
      "outputs": [
        {
          "output_type": "stream",
          "text": [
            "2019-Q2\n"
          ],
          "name": "stdout"
        }
      ]
    },
    {
      "cell_type": "markdown",
      "metadata": {
        "id": "5qd8g8UUs8CM"
      },
      "source": [
        "## <u>Problem 2 </u>\n",
        "\n",
        "* You went out in your local neighbourhood to collect the data of people residing in the locale. You surveyed 5 people and collected some data and stored that in a dictionary. You recorded their names, their age, their sex, their heights(in cms) and their weights(in kgs)"
      ]
    },
    {
      "cell_type": "code",
      "metadata": {
        "id": "FBJy9Sq_s8CN"
      },
      "source": [
        "# Surveyed data \n",
        "\n",
        "locality_data = {'Name' : ['Abhinav','Sohail','Dheeraj','Rashmi','Vaishali'],\n",
        "                  'Age' : [42,29,35,28,32],\n",
        "                  'Sex' : ['Male', 'Male','Male','Female','Female'] , \n",
        "                  'Height' : [172,175,170,168,170],\n",
        "                  'Weight' : [70,82,60,55,64]\n",
        "                 }"
      ],
      "execution_count": null,
      "outputs": []
    },
    {
      "cell_type": "markdown",
      "metadata": {
        "id": "2_rBSgqz5Ums"
      },
      "source": [
        "* Find the mean and median heights and weights of the people in your locality"
      ]
    },
    {
      "cell_type": "code",
      "metadata": {
        "id": "zywXa51d6Eev",
        "colab": {
          "base_uri": "https://localhost:8080/"
        },
        "outputId": "12d9ef63-1cac-4850-f106-022323c23a86"
      },
      "source": [
        "# Calculate the mean height and print it\n",
        "mean_h = locality_data.get('Height')\n",
        "mean_hh = sum(mean_h)/len(mean_h)\n",
        "print(f'the mean height is {mean_hh}')\n",
        "\n",
        "\n",
        "\n",
        "# Calculate the median height and print it\n",
        "median_h = sorted(mean_h)\n",
        "median_for_odd = median_h[int((len(median_h)+1)/2)-1]\n",
        "median_for_even = (median_h[int(len(median_h)/2)-1] + median_h[int(len(median_h)/2 + 1)-1])/2\n",
        "if len(median_h)%2 == 0:\n",
        "   print(f' the median height for even length list is {median_for_even}')\n",
        "else:\n",
        "   print(f' the median height for odd length list is {median_for_odd}')\n",
        "\n",
        "\n",
        "\n",
        "\n",
        "\n",
        "# Calculate the mean weight and print it\n",
        "mean_w =  locality_data.get('Weight')\n",
        "mean_ww = sum(mean_w)/len(mean_w)\n",
        "print(f' the mean weight is {mean_ww}')\n",
        "\n",
        "\n",
        "\n",
        "\n",
        "# Calculate the median weight and print it\n",
        "median_w = sorted(mean_w)\n",
        "median_w_for_odd = median_w[int((len(median_w)+1)/2)-1]\n",
        "median_w_for_even = (median_w[int(len(median_w)/2)-1] + median_w[int(len(median_w)/2 + 1)-1])/2\n",
        "if len(median_w)%2 == 0:\n",
        "   print(f' the median weight for even length list is {median_w_for_even}')\n",
        "else:\n",
        "   print(f' the median weight for odd length list is {median_w_for_odd}')\n",
        "\n",
        "\n",
        "\n"
      ],
      "execution_count": null,
      "outputs": [
        {
          "output_type": "stream",
          "text": [
            "the mean height is 171.0\n",
            " the median height for odd length list is 170\n",
            " the mean weight is 66.2\n",
            " the median weight for odd length list is 64\n"
          ],
          "name": "stdout"
        }
      ]
    },
    {
      "cell_type": "markdown",
      "metadata": {
        "id": "yLb5awgPQeYA"
      },
      "source": [
        "* Write a Python code to print the first three elements from the list of age values corresponding to the key 'Age'"
      ]
    },
    {
      "cell_type": "code",
      "metadata": {
        "id": "wef2fVgx6Gji",
        "colab": {
          "base_uri": "https://localhost:8080/"
        },
        "outputId": "2dc2382a-01c4-492b-c349-71c916a745ff"
      },
      "source": [
        "# Python code to print the first three elements for the key 'Age'\n",
        "ages = locality_data.get('Age') \n",
        "print(ages[:3])"
      ],
      "execution_count": null,
      "outputs": [
        {
          "output_type": "stream",
          "text": [
            "[42, 29, 35]\n"
          ],
          "name": "stdout"
        }
      ]
    },
    {
      "cell_type": "markdown",
      "metadata": {
        "id": "NGrZaqulRIM1"
      },
      "source": [
        "* Write a Python code to print the last two elements of the name list, if the list of values corresponding to the key 'Name' contains the element 'Rashmi' else print 'Name not found'"
      ]
    },
    {
      "cell_type": "code",
      "metadata": {
        "id": "TBRZzwAcRTNL",
        "colab": {
          "base_uri": "https://localhost:8080/"
        },
        "outputId": "f462b776-c8ea-42a8-cf53-15498f971402"
      },
      "source": [
        "# Your code below\n",
        "if locality_data.get('Name', 'Rashmi'):\n",
        "   print(locality_data.get('Name')[-2:])\n",
        "else:\n",
        "  print('Name not found')\n"
      ],
      "execution_count": null,
      "outputs": [
        {
          "output_type": "stream",
          "text": [
            "['Rashmi', 'Vaishali']\n"
          ],
          "name": "stdout"
        }
      ]
    },
    {
      "cell_type": "markdown",
      "metadata": {
        "id": "ejRCi-vTs8CU"
      },
      "source": [
        "## <u> Problem 3 </u>\n",
        "\n",
        "A student will not be allowed to sit in exam if his/her attendence is less than 75%.\n",
        "\n",
        "Take following input from user\n",
        "* Number of classes held\n",
        "* Number of classes attended."
      ]
    },
    {
      "cell_type": "code",
      "metadata": {
        "id": "C5olNuDGs8CU",
        "colab": {
          "base_uri": "https://localhost:8080/"
        },
        "outputId": "951d6a60-05b7-4f3b-fbbc-31a268794e73"
      },
      "source": [
        "7# Enter your input\n",
        "\n",
        "print(\"Number of classes held\")\n",
        "classes_held = int(input())\n",
        "\n",
        "print(\"Number of classes attended\")\n",
        "classes_attended = int(input())"
      ],
      "execution_count": null,
      "outputs": [
        {
          "output_type": "stream",
          "text": [
            "Number of classes held\n",
            "80\n",
            "Number of classes attended\n",
            "70\n"
          ],
          "name": "stdout"
        }
      ]
    },
    {
      "cell_type": "code",
      "metadata": {
        "id": "i553Hqamm2jR",
        "colab": {
          "base_uri": "https://localhost:8080/"
        },
        "outputId": "1ff14b6d-7806-4f71-b75c-d77db1b63ac6"
      },
      "source": [
        "# Calculate the attendance percentage\n",
        "attendance = classes_attended*100/classes_held\n",
        "\n",
        "print(f'The attendance is {attendance}')"
      ],
      "execution_count": null,
      "outputs": [
        {
          "output_type": "stream",
          "text": [
            "The attendance is 87.5\n"
          ],
          "name": "stdout"
        }
      ]
    },
    {
      "cell_type": "markdown",
      "metadata": {
        "id": "QYDpXSANnKxV"
      },
      "source": [
        "And print the following statements based on the condition above\n",
        "\n",
        "* percentage of class attended\n",
        "* Is student is allowed to sit in exam or not."
      ]
    },
    {
      "cell_type": "code",
      "metadata": {
        "id": "SoQ3P0yym2ts",
        "colab": {
          "base_uri": "https://localhost:8080/"
        },
        "outputId": "f53c6c8a-86c3-4c70-e84b-af930236b186"
      },
      "source": [
        "# Your code here \n",
        "if attendance >= 75:\n",
        "   print(f'student is allowed to sit in exam as his attendance is {attendance}')\n",
        "else:\n",
        "     print('student is not allowed to sit in exam')"
      ],
      "execution_count": null,
      "outputs": [
        {
          "output_type": "stream",
          "text": [
            "student is allowed to sit in exam as his attendance is 87.5\n"
          ],
          "name": "stdout"
        }
      ]
    },
    {
      "cell_type": "markdown",
      "metadata": {
        "id": "P1rOYC8Is8Cf"
      },
      "source": [
        "## <u>Problem 4</u>\n",
        "\n",
        "### A school has following rules for grading system:\n",
        "* Below 25 - F\n",
        "* 25 to 45 - E\n",
        "* 45 to 50 - D\n",
        "* 50 to 60 - C\n",
        "* 60 to 80 - B\n",
        "* Above 80 - A\n",
        "\n",
        "Keep the left number inclusive and the right number exclusive, something like [25,45) for grade E where the set is closed at 25 and open at 45.\n",
        "\n",
        "Write a Python code which takes marks as inputs from the user and print the corresponding grade."
      ]
    },
    {
      "cell_type": "code",
      "metadata": {
        "id": "ySeGyCtCs8Cg",
        "colab": {
          "base_uri": "https://localhost:8080/"
        },
        "outputId": "8ddd2f2b-5f1c-41fb-cb79-041d97095c6d"
      },
      "source": [
        "# Your input here \n",
        "print(\"Enter your marks\")\n",
        "marks = int(input())"
      ],
      "execution_count": null,
      "outputs": [
        {
          "output_type": "stream",
          "text": [
            "Enter your marks\n",
            "24\n"
          ],
          "name": "stdout"
        }
      ]
    },
    {
      "cell_type": "code",
      "metadata": {
        "id": "MI7mOHaqs8Cj",
        "colab": {
          "base_uri": "https://localhost:8080/"
        },
        "outputId": "212494e9-0cae-4beb-c711-0c64ef95429c"
      },
      "source": [
        "# Your code here to print the corresponding grade\n",
        "if marks < 25:\n",
        "  print('F')\n",
        "elif marks >=25 and marks <45:\n",
        "  print('E')\n",
        "elif marks >=45 and marks <50:\n",
        "   print('D')\n",
        "elif marks >=50 and marks <60:\n",
        "   print('C')\n",
        "elif marks >=60 and marks <80:\n",
        "   print('B')\n",
        "else:\n",
        "  print('A')\n",
        "\n"
      ],
      "execution_count": null,
      "outputs": [
        {
          "output_type": "stream",
          "text": [
            "F\n"
          ],
          "name": "stdout"
        }
      ]
    }
  ]
}