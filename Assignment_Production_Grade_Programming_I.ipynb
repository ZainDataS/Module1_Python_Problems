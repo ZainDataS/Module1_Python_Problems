{
  "nbformat": 4,
  "nbformat_minor": 0,
  "metadata": {
    "kernelspec": {
      "display_name": "Python 3",
      "language": "python",
      "name": "python3"
    },
    "language_info": {
      "codemirror_mode": {
        "name": "ipython",
        "version": 3
      },
      "file_extension": ".py",
      "mimetype": "text/x-python",
      "name": "python",
      "nbconvert_exporter": "python",
      "pygments_lexer": "ipython3",
      "version": "3.7.4"
    },
    "colab": {
      "name": "Assignment  - Production Grade Programming I.ipynb",
      "provenance": [],
      "collapsed_sections": [],
      "include_colab_link": true
    }
  },
  "cells": [
    {
      "cell_type": "markdown",
      "metadata": {
        "id": "view-in-github",
        "colab_type": "text"
      },
      "source": [
        "<a href=\"https://colab.research.google.com/github/ZainDataS/Module1_Python_Problems/blob/main/Assignment_Production_Grade_Programming_I.ipynb\" target=\"_parent\"><img src=\"https://colab.research.google.com/assets/colab-badge.svg\" alt=\"Open In Colab\"/></a>"
      ]
    },
    {
      "cell_type": "markdown",
      "metadata": {
        "id": "8WbUJEVzs8Bx"
      },
      "source": [
        "## <u>While doing this assignment only use those concepts which have been taught till now</u>"
      ]
    },
    {
      "cell_type": "markdown",
      "metadata": {
        "id": "77zLnpaNvNSp"
      },
      "source": [
        "# <u> Problem 1</u>\n",
        "\n",
        "### Create a class <code>Cylinder</code> which takes two attributes <code>radius</code> and <code>height</code>.\n",
        "\n",
        "### Create the following methods in this class:\n",
        "\n",
        "* ### method <code>volume()</code> which calculates the volume of the cyinder which is defined as $V  = \\pi r^2 h$\n",
        "\n",
        "* ### method <code>surface_area()</code> which calculates the area of the cyinder which is defined as $S  = 2\\pi r h$. Assume this is an open cylinder\n"
      ]
    },
    {
      "cell_type": "code",
      "metadata": {
        "id": "-cWkCZ5OzX0G"
      },
      "source": [
        "# Write your code below. Take pi as 3.14\n",
        "class Cylinder:\n",
        "  def __init__(self,radius,height):\n",
        "    self.radius = radius\n",
        "    self.height = height\n",
        "\n",
        "  def getVolume(self):\n",
        "    return 3.14*self.radius*self.radius*self.height\n",
        "\n",
        "  def getSurfaceArea(self):\n",
        "    return 2*3.14*self.radius*self.height\n",
        "\n",
        "\n",
        "  "
      ],
      "execution_count": null,
      "outputs": []
    },
    {
      "cell_type": "code",
      "metadata": {
        "id": "tgS3mhN-18b_",
        "colab": {
          "base_uri": "https://localhost:8080/"
        },
        "outputId": "bafdbc7a-90d0-4411-98d8-d0fdc419048b"
      },
      "source": [
        "# Check for sample inputs\n",
        "tubewell = Cylinder(5,10)\n",
        "print(tubewell.getVolume())\n",
        "print(tubewell.getSurfaceArea())\n",
        "\n",
        "\n",
        "\n"
      ],
      "execution_count": null,
      "outputs": [
        {
          "output_type": "stream",
          "name": "stdout",
          "text": [
            "785.0\n",
            "314.0\n"
          ]
        }
      ]
    },
    {
      "cell_type": "markdown",
      "metadata": {
        "id": "KjPWYK0Rs8By"
      },
      "source": [
        "## <u>Problem 2</u>\n",
        "\n",
        "### You started your own money wallet where your customers can create their accounts and they can either deposit or withdraw money from this wallet.\n",
        "\n",
        "### Write a Python class <code>BankAccount</code> which takes the balance as an attribute. You can initialize the balance with 0 because any new account will have 0 rupees in their wallet. Next write two methods for your class :\n",
        "\n",
        "* #### <code>withdraw()</code> method which takes the amount to be withdrawn as an argument and returns the balance after the withdrawal\n",
        "\n",
        "* #### <code>deposit()</code> method which takes the amount to be deposited as an argument and returns the balance after the deposit.\n",
        "\n",
        "### Keep in mind that if the balance to be withdrawn exceeds the current balance, it should display a message that \"Not enough balance in your account\"\n"
      ]
    },
    {
      "cell_type": "code",
      "metadata": {
        "id": "RxVZTrenzfHC"
      },
      "source": [
        "# Write your BankAccount class below \n",
        "\n",
        "class BankAccount:\n",
        "  def __init__(self,balance=0):\n",
        "    self.balance = balance\n",
        "  \n",
        "  def withDraw(self,w_amount):\n",
        "    if self.balance<w_amount:\n",
        "      print(\"Not enough balance in your account\")\n",
        "    else:\n",
        "      return (self.balance-w_amount)\n",
        "\n",
        "  def depoSit(self,d_amount):\n",
        "    self.balance = d_amount\n",
        "    return (self.balance+d_amount)\n",
        "\n"
      ],
      "execution_count": null,
      "outputs": []
    },
    {
      "cell_type": "code",
      "metadata": {
        "id": "N1Yhpkiws8B3"
      },
      "source": [
        "# Create two instances of this class for two customers\n",
        "Anil = BankAccount()\n",
        "Pratish = BankAccount()\n"
      ],
      "execution_count": null,
      "outputs": []
    },
    {
      "cell_type": "markdown",
      "metadata": {
        "id": "mSTxPcO3fWeX"
      },
      "source": [
        "### Next add some amount and withdraw some another amount for both the customers."
      ]
    },
    {
      "cell_type": "code",
      "metadata": {
        "id": "KpMdlB5Fs8B8",
        "colab": {
          "base_uri": "https://localhost:8080/"
        },
        "outputId": "1c49e1a1-27e2-4303-afe3-baf0a7933237"
      },
      "source": [
        "# Deposit some amount and withdrawing some amount from the two accounts and check if your method works fine\n",
        "Anil.depoSit(7000)\n",
        "Anil.withDraw(300)\n",
        "Pratish.depoSit(8000)\n",
        "Pratish.withDraw(100)\n",
        "\n"
      ],
      "execution_count": null,
      "outputs": [
        {
          "output_type": "execute_result",
          "data": {
            "text/plain": [
              "7900"
            ]
          },
          "metadata": {},
          "execution_count": 40
        }
      ]
    },
    {
      "cell_type": "markdown",
      "metadata": {
        "id": "5qd8g8UUs8CM"
      },
      "source": [
        "## <u>Problem 3 </u>\n",
        "\n",
        "### Create a class <code>Time </code> which takes two inputs hours and minutes to instantiate.\n",
        "*  #### Construct a method <code>DisplayTime()</code> which displays the time in AM/PM formats. For example if the input is 14 hours and 45 mins, then this method will print \"The time is 2:45 PM\". If the inputted hours exceeds 23 then print the message \"The input hours should be less than 24\" and if the inputted minutes exceeds 59 then print the message \"The input minutes should be less than 60.\" Also if the input is 12 hours 30 minutes, then the displayed time would be 12:30 PM\n",
        "* #### Construct a method <code>DisplayRatio()</code> which should display the ratio of minutes to hours. For example, (8 hours and  16 mins) should display 2. Use <code>try</code>, <code>except</code> block to account for ZeroDivisionError."
      ]
    },
    {
      "cell_type": "code",
      "metadata": {
        "id": "FBJy9Sq_s8CN"
      },
      "source": [
        "class Time:\n",
        "  \n",
        "  def __init__(self,hours,minutes):\n",
        "     self.hours = hours\n",
        "     self.minutes = minutes\n",
        "\n",
        "  def DisplayTime(self):\n",
        "    if self.hours<11 and self.minutes<59:\n",
        "      print('The time is:' ,self.hours,self.minutes,'AM')\n",
        "    elif self.hours==12 and self.minutes<59:\n",
        "      print('The time is:',self.hours,':',self.minutes,'PM')\n",
        "    elif self.hours>12 and self.hours<=23 and self.minutes<59:\n",
        "      print('The time is:',self.hours%12,':',self.minutes,'PM')\n",
        "    elif self.hours>=24 and self.minutes<59:\n",
        "      print('The input hours should be less than 24')\n",
        "    elif self.hours<23 and self.minutes>=60:\n",
        "      print('The input minutes should be less than 60')  \n",
        "\n",
        "  def DisplayRatio(self):\n",
        "      try:\n",
        "        if self.hours>=24 and self.minutes<59:\n",
        "            print('Ratio not valid')\n",
        "        elif self.hours<23 and self.minutes>=60:\n",
        "            print('Ratio not valid') \n",
        "        else:\n",
        "            print('The ratio is:',round((self.minutes)/(self.hours%12),2))\n",
        "      except:\n",
        "        print('ZeroDivisionError')\n",
        "      else:\n",
        "        return "
      ],
      "execution_count": null,
      "outputs": []
    },
    {
      "cell_type": "code",
      "metadata": {
        "id": "zywXa51d6Eev",
        "colab": {
          "base_uri": "https://localhost:8080/"
        },
        "outputId": "687509f8-6c98-4368-b1d8-f842b904234d"
      },
      "source": [
        "# Check for few sample inputs of hours and mins\n",
        "hour_min_list = [(23,45), (34,50), (12,34), (14,67),(19,20), (2,15), (0, 10)]\n",
        "\n",
        "# Using a for loop display the corresponding 12 hour time format for the above hour_min_list\n",
        "\n",
        "for x,y in hour_min_list:\n",
        "  newTime=Time(x,y)\n",
        "  newTime.DisplayTime()\n",
        "  newTime.DisplayRatio()\n",
        "  \n",
        "# Also display the corresponding ratios for the above list\n",
        "\n"
      ],
      "execution_count": null,
      "outputs": [
        {
          "output_type": "stream",
          "name": "stdout",
          "text": [
            "The time is: 11 : 45 PM\n",
            "The ratio is: 4.09\n",
            "The input hours should be less than 24\n",
            "Ratio not valid\n",
            "The time is: 12 : 34 PM\n",
            "ZeroDivisionError\n",
            "The input minutes should be less than 60\n",
            "Ratio not valid\n",
            "The time is: 7 : 20 PM\n",
            "The ratio is: 2.86\n",
            "The time is: 2 15 AM\n",
            "The ratio is: 7.5\n",
            "The time is: 0 10 AM\n",
            "ZeroDivisionError\n"
          ]
        }
      ]
    }
  ]
}